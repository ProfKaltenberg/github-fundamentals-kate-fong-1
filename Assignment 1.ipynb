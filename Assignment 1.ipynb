{
 "cells": [
  {
   "cell_type": "markdown",
   "id": "0c689451",
   "metadata": {},
   "source": [
    "### Assignment 1\n"
   ]
  },
  {
   "cell_type": "markdown",
   "id": "33da6497",
   "metadata": {},
   "source": [
    "![Happy](https://media.giphy.com/media/3NtY188QaxDdC/giphy.gif)"
   ]
  },
  {
   "cell_type": "markdown",
   "id": "da82c356",
   "metadata": {},
   "source": [
    "From this first assignment, I've learned how to create a branch from an existing repository and to create a pull request! Hopefully, I did it *correctly*. "
   ]
  },
  {
   "cell_type": "markdown",
   "id": "a590d4bc",
   "metadata": {},
   "source": [
    "I am also reviewing the markdown syntax, review how to"
   ]
  },
  {
   "cell_type": "markdown",
   "id": "c7e8ca36",
   "metadata": {},
   "source": [
    "_italicize words_"
   ]
  },
  {
   "cell_type": "markdown",
   "id": "23af8b80",
   "metadata": {},
   "source": [
    "__bold words__"
   ]
  },
  {
   "cell_type": "markdown",
   "id": "cbbbbd58",
   "metadata": {},
   "source": [
    "* make lists"
   ]
  },
  {
   "cell_type": "markdown",
   "id": "9237c729",
   "metadata": {},
   "source": [
    "and insert images like the one above!"
   ]
  },
  {
   "cell_type": "markdown",
   "id": "b0bc50b5",
   "metadata": {},
   "source": [
    "I'm still confused about exactly what everything means, but I'm looking forward to learning more and getting the hang of it. There are lots of new concepts and terms to get used to!!"
   ]
  },
  {
   "cell_type": "code",
   "execution_count": null,
   "id": "f5817014",
   "metadata": {},
   "outputs": [],
   "source": []
  }
 ],
 "metadata": {
  "kernelspec": {
   "display_name": "Python 3",
   "language": "python",
   "name": "python3"
  },
  "language_info": {
   "codemirror_mode": {
    "name": "ipython",
    "version": 3
   },
   "file_extension": ".py",
   "mimetype": "text/x-python",
   "name": "python",
   "nbconvert_exporter": "python",
   "pygments_lexer": "ipython3",
   "version": "3.8.8"
  }
 },
 "nbformat": 4,
 "nbformat_minor": 5
}
